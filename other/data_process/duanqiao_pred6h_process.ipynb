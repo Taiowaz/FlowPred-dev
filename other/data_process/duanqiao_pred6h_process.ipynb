{
 "cells": [
  {
   "cell_type": "code",
   "execution_count": 1,
   "metadata": {},
   "outputs": [],
   "source": [
    "# 魔术指令，自动加载模块\n",
    "%load_ext autoreload\n",
    "%autoreload 2\n",
    "\n",
    "import os\n",
    "\n",
    "os.chdir(\"/home/beihang/xihu/HZTourism/FlowPred-dev\")"
   ]
  },
  {
   "cell_type": "code",
   "execution_count": 7,
   "metadata": {},
   "outputs": [
    {
     "name": "stdout",
     "output_type": "stream",
     "text": [
      "数据库连接成功！\n",
      "正在从表 'dahua_flow' 中查询数据，起始时间: 2024-01-01 00:00:00...\n",
      "获取到表头: ['id', 'date_time', 'num', 'time_step', 'insert_time']\n",
      "CSV 文件表头已写入。\n",
      "成功！筛选后的数据已导出到文件 'data/stand/raw/14207/24_250713.csv'。\n",
      "数据库连接已关闭。\n"
     ]
    }
   ],
   "source": [
    "from utils.utils_data import save_csv_from_db\n",
    "\n",
    "save_csv_from_db(\n",
    "    table_name=\"dahua_flow\",\n",
    "    time_col=\"date_time\",\n",
    "    s_time=\"2024-01-01 00:00:00\",\n",
    "    e_time=None,\n",
    "    output_csv_file=\"data/stand/raw/14207/24_250713.csv\"\n",
    ")\n"
   ]
  },
  {
   "cell_type": "code",
   "execution_count": 48,
   "metadata": {},
   "outputs": [],
   "source": [
    "import pandas as pd\n",
    "df = pd.read_csv(\"data/stand/raw/14207/24_250713.csv\")\n",
    "df.rename(columns={\"date_time\": \"kpi_time\", \"num\": \"kpi_value\"}, inplace=True)\n",
    "df = df[[\"kpi_time\", \"kpi_value\"]]\n",
    "df[\"kpi_time\"] = pd.to_datetime(df[\"kpi_time\"])\n",
    "df=df[df[\"kpi_time\"]>=\"2024-11-06 13:30:30\"]\n",
    "df.drop_duplicates([\"kpi_time\"], inplace=True)\n",
    "df.sort_values(by=\"kpi_time\", inplace=True)\n",
    "df = df[df[\"kpi_time\"].dt.second.isin([0, 30])]\n",
    "df[\"spot_id\"] = 14207"
   ]
  },
  {
   "cell_type": "code",
   "execution_count": 49,
   "metadata": {},
   "outputs": [],
   "source": [
    "from utils.utils_data import fill_missing_value_singlespot_day,filter_days_with_less_consecutive_missing\n",
    "df_filtered = filter_days_with_less_consecutive_missing(df, \"30s\")"
   ]
  },
  {
   "cell_type": "code",
   "execution_count": 50,
   "metadata": {},
   "outputs": [],
   "source": [
    "df_filled = fill_missing_value_singlespot_day(df_filtered)"
   ]
  },
  {
   "cell_type": "code",
   "execution_count": 52,
   "metadata": {},
   "outputs": [],
   "source": [
    "df_filled.to_csv(\"data/14207/241113_250713.csv\", index=False)"
   ]
  },
  {
   "cell_type": "code",
   "execution_count": 54,
   "metadata": {},
   "outputs": [
    {
     "data": {
      "text/plain": [
       "{2867: 2,\n",
       " 2877: 13,\n",
       " 2880: 92,\n",
       " 2879: 31,\n",
       " 2875: 5,\n",
       " 2878: 20,\n",
       " 2865: 1,\n",
       " 2872: 6,\n",
       " 2869: 1,\n",
       " 2876: 9,\n",
       " 2874: 4,\n",
       " 2873: 1,\n",
       " 2866: 1,\n",
       " 2864: 1,\n",
       " 2870: 1,\n",
       " 2868: 1,\n",
       " 2871: 1}"
      ]
     },
     "execution_count": 54,
     "metadata": {},
     "output_type": "execute_result"
    }
   ],
   "source": []
  }
 ],
 "metadata": {
  "kernelspec": {
   "display_name": "koopa",
   "language": "python",
   "name": "python3"
  },
  "language_info": {
   "codemirror_mode": {
    "name": "ipython",
    "version": 3
   },
   "file_extension": ".py",
   "mimetype": "text/x-python",
   "name": "python",
   "nbconvert_exporter": "python",
   "pygments_lexer": "ipython3",
   "version": "3.9.21"
  }
 },
 "nbformat": 4,
 "nbformat_minor": 2
}
