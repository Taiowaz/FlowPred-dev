{
 "cells": [
  {
   "cell_type": "code",
   "execution_count": 1,
   "metadata": {},
   "outputs": [],
   "source": [
    "# 魔术指令，自动加载模块\n",
    "%load_ext autoreload\n",
    "%autoreload 2\n",
    "\n",
    "import os\n",
    "import pandas as pd\n",
    "\n",
    "os.chdir(\"..\")\n",
    "from utils_data.utils_data import get_group_annotation, save_mode_data\n",
    "from utils_data.utils_data import (\n",
    "    filter_days_with_less_consecutive_missing,\n",
    "    fill_missing_value_singlespot_day,\n",
    ")"
   ]
  },
  {
   "cell_type": "code",
   "execution_count": null,
   "metadata": {},
   "outputs": [],
   "source": [
    "df_2025 = pd.read_csv(\"data/ogn/14100_250101_250527.csv\")\n",
    "# 数据去重\n",
    "df_2025 = df_2025.drop_duplicates(subset=[\"kpi_time\"])\n",
    "# 筛选连续数据缺值不多于5条的数据\n",
    "df_2025 = filter_days_with_less_consecutive_missing(df=df_2025, freq=\"5min\", k=5)\n",
    "# 填充单值\n",
    "df_2025 = fill_missing_value_singlespot_day(df_2025)\n",
    "# 去除id列与kpi_id列\n",
    "df_2025 = df_2025.drop(columns=[\"id\", \"kpi_id\"])\n",
    "df_2025.to_csv(\"data/pred_6h/ogn/25/df_2025.csv\", index=False)"
   ]
  },
  {
   "cell_type": "code",
   "execution_count": 3,
   "metadata": {},
   "outputs": [],
   "source": [
    "his_len = 288\n",
    "pred_len = 72\n",
    "\n",
    "data_basepath_list = [\"data/pred_6h/ogn/24\", \"data/pred_6h/ogn/25\"]\n",
    "df_list = [pd.read_csv(\"data/pred_6h/ogn/24/df_2024.csv\"), pd.read_csv(\"data/pred_6h/ogn/25/df_2025.csv\")]"
   ]
  },
  {
   "cell_type": "code",
   "execution_count": 4,
   "metadata": {},
   "outputs": [],
   "source": [
    "for df, data_basepath in zip(df_list,data_basepath_list):\n",
    "    groups_mode_0, groups_mode_1 = get_group_annotation(his_len=his_len,pred_len=pred_len, df=df)\n",
    "    save_mode_data(\n",
    "        groups_mode=groups_mode_0,\n",
    "        mode=0,\n",
    "        his_len=his_len,\n",
    "        pred_len=pred_len,\n",
    "        data_basepath=data_basepath,\n",
    "    )\n",
    "    save_mode_data(\n",
    "        groups_mode=groups_mode_1,\n",
    "        mode=1,\n",
    "        his_len=his_len,\n",
    "        pred_len=pred_len,\n",
    "        data_basepath=data_basepath,\n",
    "    )"
   ]
  },
  {
   "cell_type": "code",
   "execution_count": null,
   "metadata": {},
   "outputs": [],
   "source": []
  }
 ],
 "metadata": {
  "kernelspec": {
   "display_name": "koopa",
   "language": "python",
   "name": "python3"
  },
  "language_info": {
   "codemirror_mode": {
    "name": "ipython",
    "version": 3
   },
   "file_extension": ".py",
   "mimetype": "text/x-python",
   "name": "python",
   "nbconvert_exporter": "python",
   "pygments_lexer": "ipython3",
   "version": "3.9.21"
  }
 },
 "nbformat": 4,
 "nbformat_minor": 2
}
