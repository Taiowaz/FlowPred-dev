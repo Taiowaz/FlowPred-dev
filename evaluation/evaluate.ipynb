{
 "cells": [
  {
   "cell_type": "code",
   "execution_count": 4,
   "metadata": {},
   "outputs": [],
   "source": [
    "# 魔术指令，自动加载模块\n",
    "%load_ext autoreload\n",
    "%autoreload 2\n",
    "import os\n",
    "os.chdir(\"/home/beihang/xihu/HZTourism/FlowPred-dev\")\n",
    "import sys\n",
    "sys.path.append(\"/home/beihang/xihu/HZTourism/FlowPred-dev\")\n",
    "from evaluation.metrics.numerical_deviation import calculate_daily_rmse_from_df\n",
    "from evaluation.metrics.peak_time import calculate_peak_time_deviation\n",
    "from evaluation.metrics.stability import calculate_daily_stability\n",
    "from evaluation.metrics.trend_accuracy import calculate_average_trend_accuracy\n",
    "from evaluation.metrics.volatility import calculate_daily_volatility_ratio\n",
    "import pandas as pd"
   ]
  },
  {
   "cell_type": "code",
   "execution_count": 3,
   "metadata": {},
   "outputs": [],
   "source": [
    "base_dir = \"data/pred_6h/res/res_test/14100/288_72\"\n",
    "dir_name = \"Flow_288_24_Koopa_Flow_ftS_sl288_pl72_segl48_dyna128_h64_l2_nb3_a0.2_test_0\"\n",
    "pred_len = 72\n",
    "\n",
    "df_mode0 = pd.read_csv(f\"{base_dir}/0/{dir_name}/result.csv\")\n",
    "df_mode1 = pd.read_csv(f\"{base_dir}/1/{dir_name}/result.csv\")"
   ]
  },
  {
   "cell_type": "code",
   "execution_count": 4,
   "metadata": {},
   "outputs": [
    {
     "data": {
      "text/plain": [
       "(8838.973236615455, 5518.219358473984)"
      ]
     },
     "execution_count": 4,
     "metadata": {},
     "output_type": "execute_result"
    }
   ],
   "source": [
    "calculate_daily_rmse_from_df(df_mode0),calculate_daily_rmse_from_df(df_mode1)"
   ]
  },
  {
   "cell_type": "code",
   "execution_count": 5,
   "metadata": {},
   "outputs": [
    {
     "data": {
      "text/plain": [
       "(0.9975459785581067, 0.9693045456961421)"
      ]
     },
     "execution_count": 5,
     "metadata": {},
     "output_type": "execute_result"
    }
   ],
   "source": [
    "calculate_daily_volatility_ratio(df_mode0),calculate_daily_volatility_ratio(df_mode1)"
   ]
  },
  {
   "cell_type": "code",
   "execution_count": 6,
   "metadata": {},
   "outputs": [
    {
     "data": {
      "text/plain": [
       "(15.0, 15.0)"
      ]
     },
     "execution_count": 6,
     "metadata": {},
     "output_type": "execute_result"
    }
   ],
   "source": [
    "calculate_peak_time_deviation(df_mode0), calculate_peak_time_deviation(df_mode1)"
   ]
  },
  {
   "cell_type": "code",
   "execution_count": null,
   "metadata": {},
   "outputs": [],
   "source": []
  },
  {
   "cell_type": "code",
   "execution_count": 7,
   "metadata": {},
   "outputs": [
    {
     "data": {
      "text/plain": [
       "(4165.460779622964, 2019.0423465617746)"
      ]
     },
     "execution_count": 7,
     "metadata": {},
     "output_type": "execute_result"
    }
   ],
   "source": [
    "calculate_daily_stability(df_mode0), calculate_daily_stability(df_mode1)"
   ]
  },
  {
   "cell_type": "code",
   "execution_count": 8,
   "metadata": {},
   "outputs": [
    {
     "data": {
      "text/plain": [
       "(0.803206926031554, 0.8643287779685895)"
      ]
     },
     "execution_count": 8,
     "metadata": {},
     "output_type": "execute_result"
    }
   ],
   "source": [
    "calculate_average_trend_accuracy(df_mode0,pred_len), calculate_average_trend_accuracy(df_mode1,pred_len)"
   ]
  },
  {
   "cell_type": "code",
   "execution_count": null,
   "metadata": {},
   "outputs": [],
   "source": [
    "def evaluate(base_dir, dir_name):\n",
    "    df_mode_holiday = pd.read_csv(f\"{base_dir}/0/{dir_name}/result.csv\")\n",
    "    df_mode_workday = pd.read_csv(f\"{base_dir}/1/{dir_name}/result.csv\")\n",
    "    numerical_deviation_holiday = calculate_daily_rmse_from_df(df_mode_holiday)\n",
    "    numerical_deviation_workday = calculate_daily_rmse_from_df(df_mode_workday)\n",
    "    peak_time_holiday = calculate_peak_time_deviation(df_mode_holiday)\n",
    "    peak_time_workday = calculate_peak_time_deviation(df_mode_workday)\n",
    "    stability_holiday = calculate_daily_stability(df_mode_holiday)\n",
    "    stability_workday = calculate_daily_stability(df_mode_workday)\n",
    "    volatility_holiday = calculate_daily_volatility_ratio(df_mode_holiday)\n",
    "    volatility_workday = calculate_daily_volatility_ratio(df_mode_workday)\n",
    "    trend_accuracy_holiday = calculate_average_trend_accuracy(df_mode_holiday)\n",
    "    trend_accuracy_workday = calculate_average_trend_accuracy(df_mode_workday)\n",
    "    # 按顺序输出所有指标\n",
    "    print(f\"Holiday: {numerical_deviation_holiday:.4f}, {peak_time_holiday:.4f}, {stability_holiday:.4f}, {volatility_holiday:.4f}, {trend_accuracy_holiday:.4f}\")\n",
    "    print(f\"Workday: {numerical_deviation_workday:.4f}, {peak_time_workday:.4f}, {stability_workday:.4f}, {volatility_workday:.4f}, {trend_accuracy_workday:.4f}\")\n"
   ]
  },
  {
   "cell_type": "code",
   "execution_count": 2,
   "metadata": {},
   "outputs": [],
   "source": [
    "def evaluate_single_mode(res_path,pred_len=72):\n",
    "    df = pd.read_csv(res_path)\n",
    "    numerical_deviation = calculate_daily_rmse_from_df(df)\n",
    "    peak_time = calculate_peak_time_deviation(df)\n",
    "    stability = calculate_daily_stability(df)\n",
    "    volatility = calculate_daily_volatility_ratio(df)\n",
    "    trend_accuracy = calculate_average_trend_accuracy(df,pred_len)\n",
    "    # 按顺序输出所有指标\n",
    "    print(f\"metric: {numerical_deviation:.4f}, {peak_time:.4f}, {stability:.4f}, {volatility:.4f}, {trend_accuracy:.4f}\")"
   ]
  },
  {
   "cell_type": "code",
   "execution_count": 6,
   "metadata": {},
   "outputs": [
    {
     "name": "stdout",
     "output_type": "stream",
     "text": [
      "节假日\n",
      "metric: 11581.3939, 15.0000, 3716.1790, 0.9395, 0.8090\n"
     ]
    }
   ],
   "source": [
    "res_path=\"data/pred_6h_args_huber_loss/res/res_test/14100/288_72/0/Flow_Koopa_Koopa_Flow_ftS_sl288_pl72_segl48_dyna128_h512_l3_nb2_a0.1_test_0/result.csv\"\n",
    "print(\"节假日\")\n",
    "evaluate_single_mode(res_path)"
   ]
  },
  {
   "cell_type": "code",
   "execution_count": 7,
   "metadata": {},
   "outputs": [
    {
     "name": "stdout",
     "output_type": "stream",
     "text": [
      "工作日\n",
      "metric: 4642.1492, 25.0000, 1687.6049, 1.0108, 0.8980\n"
     ]
    }
   ],
   "source": [
    "res_path=\"data/pred_6h_args/res/res_test/14100/288_72/1/Flow_Koopa_Koopa_Flow_ftS_sl288_pl72_segl48_dyna256_h256_l4_nb2_a0.4_test_0/result.csv\"\n",
    "print(\"工作日\")\n",
    "evaluate_single_mode(res_path)"
   ]
  },
  {
   "cell_type": "code",
   "execution_count": 8,
   "metadata": {},
   "outputs": [
    {
     "name": "stdout",
     "output_type": "stream",
     "text": [
      "节假日\n",
      "metric: 8512.1166, 1455.0000, 3072.5355, 0.9823, 0.8552\n"
     ]
    }
   ],
   "source": [
    "res_path=\"data/pred_6h_args_huber_loss/res/res_test/14100/288_72/0/Flow_Koopa_Koopa_Flow_ftS_sl288_pl72_segl48_dyna128_h64_l2_nb3_a0.2_test_0/result.csv\"\n",
    "print(\"节假日\")\n",
    "evaluate_single_mode(res_path)"
   ]
  },
  {
   "cell_type": "code",
   "execution_count": 9,
   "metadata": {},
   "outputs": [
    {
     "name": "stdout",
     "output_type": "stream",
     "text": [
      "工作日\n",
      "metric: 3372.5096, 55.0000, 1243.6351, 0.9727, 0.9034\n"
     ]
    }
   ],
   "source": [
    "res_path=\"data/pred_6h_args_huber_loss/res/res_test/14100/288_72/1/Flow_Koopa_Koopa_Flow_ftS_sl288_pl72_segl48_dyna128_h64_l2_nb3_a0.2_test_0/result.csv\"\n",
    "print(\"工作日\")\n",
    "evaluate_single_mode(res_path)"
   ]
  },
  {
   "cell_type": "code",
   "execution_count": null,
   "metadata": {},
   "outputs": [],
   "source": []
  },
  {
   "cell_type": "markdown",
   "metadata": {},
   "source": [
    "## 两小时预测评估"
   ]
  },
  {
   "cell_type": "code",
   "execution_count": null,
   "metadata": {},
   "outputs": [],
   "source": []
  }
 ],
 "metadata": {
  "kernelspec": {
   "display_name": "koopa",
   "language": "python",
   "name": "python3"
  },
  "language_info": {
   "codemirror_mode": {
    "name": "ipython",
    "version": 3
   },
   "file_extension": ".py",
   "mimetype": "text/x-python",
   "name": "python",
   "nbconvert_exporter": "python",
   "pygments_lexer": "ipython3",
   "version": "3.9.21"
  }
 },
 "nbformat": 4,
 "nbformat_minor": 2
}
