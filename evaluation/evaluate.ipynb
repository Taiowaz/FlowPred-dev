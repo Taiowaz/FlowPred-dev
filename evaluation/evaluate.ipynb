{
 "cells": [
  {
   "cell_type": "code",
   "execution_count": 1,
   "metadata": {},
   "outputs": [],
   "source": [
    "# 魔术指令，自动加载模块\n",
    "%load_ext autoreload\n",
    "%autoreload 2\n",
    "import os\n",
    "os.chdir(\"..\")\n",
    "import sys\n",
    "# sys.path.append(\".\")\n",
    "sys.path.append(\"/home/beihang/xihu/HZTourism/FlowPred/evaluation\")\n",
    "from metrics.numerical_deviation import calculate_daily_rmse_from_df\n",
    "from metrics.peak_time import calculate_peak_time_deviation\n",
    "from metrics.stability import calculate_daily_stability\n",
    "from metrics.trend_accuracy import calculate_average_trend_accuracy\n",
    "from metrics.volatility import calculate_daily_volatility_ratio\n",
    "import pandas as pd"
   ]
  },
  {
   "cell_type": "code",
   "execution_count": 2,
   "metadata": {},
   "outputs": [
    {
     "data": {
      "text/plain": [
       "'/home/beihang/xihu/HZTourism/FlowPred'"
      ]
     },
     "execution_count": 2,
     "metadata": {},
     "output_type": "execute_result"
    }
   ],
   "source": [
    "os.getcwd()"
   ]
  },
  {
   "cell_type": "code",
   "execution_count": 3,
   "metadata": {},
   "outputs": [],
   "source": [
    "base_dir = \"data/pred_6h/res/res_test/14100/288_72\"\n",
    "dir_name = \"Flow_288_24_Koopa_Flow_ftS_sl288_pl72_segl48_dyna128_h64_l2_nb3_a0.2_test_0\"\n",
    "pred_len = 72\n",
    "\n",
    "df_mode0 = pd.read_csv(f\"{base_dir}/0/{dir_name}/result.csv\")\n",
    "df_mode1 = pd.read_csv(f\"{base_dir}/1/{dir_name}/result.csv\")"
   ]
  },
  {
   "cell_type": "code",
   "execution_count": 4,
   "metadata": {},
   "outputs": [
    {
     "data": {
      "text/plain": [
       "(8838.973236615455, 5518.219358473984)"
      ]
     },
     "execution_count": 4,
     "metadata": {},
     "output_type": "execute_result"
    }
   ],
   "source": [
    "calculate_daily_rmse_from_df(df_mode0),calculate_daily_rmse_from_df(df_mode1)"
   ]
  },
  {
   "cell_type": "code",
   "execution_count": 5,
   "metadata": {},
   "outputs": [
    {
     "data": {
      "text/plain": [
       "(0.9975459785581067, 0.9693045456961421)"
      ]
     },
     "execution_count": 5,
     "metadata": {},
     "output_type": "execute_result"
    }
   ],
   "source": [
    "calculate_daily_volatility_ratio(df_mode0),calculate_daily_volatility_ratio(df_mode1)"
   ]
  },
  {
   "cell_type": "code",
   "execution_count": 6,
   "metadata": {},
   "outputs": [
    {
     "data": {
      "text/plain": [
       "(15.0, 15.0)"
      ]
     },
     "execution_count": 6,
     "metadata": {},
     "output_type": "execute_result"
    }
   ],
   "source": [
    "calculate_peak_time_deviation(df_mode0), calculate_peak_time_deviation(df_mode1)"
   ]
  },
  {
   "cell_type": "code",
   "execution_count": 7,
   "metadata": {},
   "outputs": [
    {
     "data": {
      "text/plain": [
       "(4165.460779622964, 2019.0423465617746)"
      ]
     },
     "execution_count": 7,
     "metadata": {},
     "output_type": "execute_result"
    }
   ],
   "source": [
    "calculate_daily_stability(df_mode0), calculate_daily_stability(df_mode1)"
   ]
  },
  {
   "cell_type": "code",
   "execution_count": 8,
   "metadata": {},
   "outputs": [
    {
     "data": {
      "text/plain": [
       "(0.803206926031554, 0.8643287779685895)"
      ]
     },
     "execution_count": 8,
     "metadata": {},
     "output_type": "execute_result"
    }
   ],
   "source": [
    "calculate_average_trend_accuracy(df_mode0,pred_len), calculate_average_trend_accuracy(df_mode1,pred_len)"
   ]
  },
  {
   "cell_type": "code",
   "execution_count": null,
   "metadata": {},
   "outputs": [],
   "source": []
  }
 ],
 "metadata": {
  "kernelspec": {
   "display_name": "koopa",
   "language": "python",
   "name": "python3"
  },
  "language_info": {
   "codemirror_mode": {
    "name": "ipython",
    "version": 3
   },
   "file_extension": ".py",
   "mimetype": "text/x-python",
   "name": "python",
   "nbconvert_exporter": "python",
   "pygments_lexer": "ipython3",
   "version": "3.9.21"
  }
 },
 "nbformat": 4,
 "nbformat_minor": 2
}
